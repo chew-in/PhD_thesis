{
 "cells": [
  {
   "cell_type": "code",
   "execution_count": 2,
   "id": "6ca6cc0c",
   "metadata": {},
   "outputs": [],
   "source": [
    "import numpy as np\n",
    "import scipy.stats as stats\n",
    "import random\n",
    "\n",
    "import math\n",
    "from scipy.optimize import curve_fit\n",
    "\n",
    "import matplotlib.pyplot as plt\n",
    "from matplotlib.font_manager import FontProperties\n",
    "from matplotlib.ticker import StrMethodFormatter\n",
    "from matplotlib.ticker import ScalarFormatter"
   ]
  },
  {
   "cell_type": "code",
   "execution_count": 3,
   "id": "6741b50f",
   "metadata": {},
   "outputs": [],
   "source": [
    "# Define Tableau 10 Colors\n",
    "tableau_colors = [\n",
    "    (31, 119, 180),  # Blue 0\n",
    "    (255, 127, 14),  # Orange 1\n",
    "    (44, 160, 44),   # Green 2\n",
    "    (214, 39, 40),   # Red 3\n",
    "    (148, 103, 189), # Purple 4 \n",
    "    (140, 86, 75),   # Brown 5\n",
    "    (227, 119, 194), # Pink 6\n",
    "    (127, 127, 127), # Gray 7\n",
    "    (188, 189, 34),  # Yellow 8\n",
    "    (23, 190, 207),  # Cyan 9\n",
    "]\n",
    "\n",
    "# Normalize RGB values to range [0, 1]\n",
    "tableau_colors = [(r / 255, g / 255, b / 255) for r, g, b in tableau_colors]\n",
    "\n",
    "font = {'family': 'Georgia', 'color':  'black', 'weight': 'normal', 'size': 20}\n",
    "title_font = {'family': 'Georgia', 'color':  'black', 'weight': 'bold', 'style': 'italic', 'size': 20}\n",
    "suptitle_font = FontProperties(family='Georgia', weight='bold', size=22)\n",
    "legend_font = FontProperties(family='Georgia', weight='normal', size=16)\n",
    "tick_font = {'family': 'Georgia', 'size': 18}"
   ]
  },
  {
   "cell_type": "code",
   "execution_count": 30,
   "id": "ea538fb2",
   "metadata": {},
   "outputs": [],
   "source": [
    "def gaussian(x, mu, sigma):\n",
    "    return 1 / (sigma * np.sqrt(2 * np.pi)) * np.exp(-((x - mu) ** 2) / (2 * sigma ** 2))"
   ]
  },
  {
   "cell_type": "code",
   "execution_count": 47,
   "id": "708472bc",
   "metadata": {},
   "outputs": [
    {
     "data": {
      "image/png": "[encoded data removed]",
      "text/plain": [
       "<Figure size 576x432 with 1 Axes>"
      ]
     },
     "metadata": {},
     "output_type": "display_data"
    }
   ],
   "source": [
    "mu, sigma = 0, 0.25\n",
    "x = np.linspace(-1, 1, 400)\n",
    "y = gaussian(x, mu, sigma)\n",
    "# add top balls \n",
    "# (xpos, col), (xpos, col), (xpos, col), (xpos, col)...\n",
    "color_inds = [3, 1, 8, 2, 9, 0, 4]\n",
    "# colors = [tableau_colors[i] for i in color_inds]\n",
    "colors = ['black', 'red', 'orange', 'yellow', 'green', 'blue', 'indigo', 'violet', 'white']\n",
    "xpos = np.linspace(-1, 1, 9)\n",
    "ypos = [gaussian(xp, mu, sigma) for xp in xpos]\n",
    "\n",
    "plt.figure(figsize= (8, 6))\n",
    "ax = plt.gca()\n",
    "ax.plot(x, y, label='curve', color=tableau_colors[7], linewidth=4)\n",
    "ax.scatter(xpos, ypos, color=colors, s=120, \\\n",
    "           edgecolors=colors, linewidths=1.5, \\\n",
    "           facecolors='none', marker='o')\n",
    "\n",
    "# ax.set_xlim(-1, 1)\n",
    "# ax.set_ylim(0, 2)\n",
    "\n",
    "# Customize tick sizes\n",
    "ax.set_xticks([]) \n",
    "ax.set_yticks([]) \n",
    "\n",
    "plt.gcf().set_facecolor('white')\n",
    "# plt.title('Gaussian Distribution', fontproperties=suptitle_font, y=1)\n",
    "# plt.legend(loc='center right', prop=legend_font)\n",
    "\n",
    "# plt.savefig('./plots/gaussian.png') \n",
    "plt.show()"
   ]
  },
  {
   "cell_type": "code",
   "execution_count": null,
   "id": "4b43e5cb",
   "metadata": {},
   "outputs": [],
   "source": [
    "# ideas\n",
    "- make them in motion, repeat a lot of them... "
   ]
  },
  {
   "cell_type": "code",
   "execution_count": null,
   "id": "b135f58b",
   "metadata": {},
   "outputs": [],
   "source": []
  },
  {
   "cell_type": "code",
   "execution_count": null,
   "id": "d6823f8b",
   "metadata": {},
   "outputs": [],
   "source": []
  },
  {
   "cell_type": "code",
   "execution_count": null,
   "id": "eb9d8cf0",
   "metadata": {},
   "outputs": [],
   "source": []
  }
 ],
 "metadata": {
  "kernelspec": {
   "display_name": "Python 3 (ipykernel)",
   "language": "python",
   "name": "python3"
  },
  "language_info": {
   "codemirror_mode": {
    "name": "ipython",
    "version": 3
   },
   "file_extension": ".py",
   "mimetype": "text/x-python",
   "name": "python",
   "nbconvert_exporter": "python",
   "pygments_lexer": "ipython3",
   "version": "3.9.12"
  }
 },
 "nbformat": 4,
 "nbformat_minor": 5
}
